{
 "cells": [
  {
   "cell_type": "code",
   "execution_count": 1,
   "id": "2c4bf999",
   "metadata": {},
   "outputs": [
    {
     "name": "stdout",
     "output_type": "stream",
     "text": [
      "['arun', 'an', 'elephant']\n"
     ]
    }
   ],
   "source": [
    "#2\n",
    "\n",
    "import re\n",
    "\n",
    "string = \"arun has an elephant\"\n",
    "pattern = (r'\\b[ae]\\w+\\b')\n",
    "result = re.findall (pattern , string)\n",
    "\n",
    "print (result)"
   ]
  },
  {
   "cell_type": "code",
   "execution_count": null,
   "id": "7b499f27",
   "metadata": {},
   "outputs": [],
   "source": []
  },
  {
   "cell_type": "code",
   "execution_count": 4,
   "id": "44c8fb35",
   "metadata": {},
   "outputs": [
    {
     "name": "stdout",
     "output_type": "stream",
     "text": [
      "['Importance', 'Of', 'Regular', 'Expressions', 'In', 'Python']\n"
     ]
    }
   ],
   "source": [
    "#7\n",
    "\n",
    "import re\n",
    "\n",
    "input_string =  \"ImportanceOfRegularExpressionsInPython\"\n",
    "uppercase_parts = re.findall ('[A-Z][^A-Z]*' , input_string)\n",
    "print (uppercase_parts)"
   ]
  },
  {
   "cell_type": "code",
   "execution_count": null,
   "id": "674f637e",
   "metadata": {},
   "outputs": [],
   "source": []
  },
  {
   "cell_type": "code",
   "execution_count": 43,
   "id": "28948794",
   "metadata": {},
   "outputs": [
    {
     "name": "stdout",
     "output_type": "stream",
     "text": [
      "Modified string: RegularExpression 1IsAn 2ImportantTopic 3InPython\n"
     ]
    }
   ],
   "source": [
    "#8\n",
    "\n",
    "import re\n",
    "\n",
    "def insert_spaces_before_numbers(input_string):\n",
    "    pattern = re.compile(r'(?<=\\D)(?=\\d)')\n",
    "    modified_string = pattern.sub(' ', input_string)\n",
    "    return modified_string\n",
    "\n",
    "#Input string\n",
    "input_string = \"RegularExpression1IsAn2ImportantTopic3InPython\"\n",
    "\n",
    "#Insert spaces before words starting with numbers\n",
    "modified_string = insert_spaces_before_numbers(input_string)\n",
    "print(\"Modified string:\", modified_string)\n"
   ]
  },
  {
   "cell_type": "code",
   "execution_count": 14,
   "id": "55e26a64",
   "metadata": {},
   "outputs": [
    {
     "name": "stdout",
     "output_type": "stream",
     "text": [
      "The string is valid.\n"
     ]
    }
   ],
   "source": [
    "#11\n",
    "\n",
    "import re\n",
    "\n",
    "    \n",
    "\n",
    "def check_valid_string(input_string):\n",
    "    pattern = re.compile(r'^[a-zA-Z0-9_]+$')\n",
    "    return pattern.match(input_string) is not None\n",
    "\n",
    "input_string = \"The_Cat_is_chasing_2_Mouse\"\n",
    "is_valid = check_valid_string(input_string)\n",
    "\n",
    "if is_valid:\n",
    "    print(\"The string is valid.\")\n",
    "else:\n",
    "    print(\"The string is not valid.\")\n"
   ]
  },
  {
   "cell_type": "code",
   "execution_count": null,
   "id": "eefcf6c2",
   "metadata": {},
   "outputs": [],
   "source": []
  },
  {
   "cell_type": "code",
   "execution_count": 20,
   "id": "a324386e",
   "metadata": {},
   "outputs": [],
   "source": []
  },
  {
   "cell_type": "code",
   "execution_count": 16,
   "id": "61220c46",
   "metadata": {},
   "outputs": [
    {
     "name": "stdout",
     "output_type": "stream",
     "text": [
      "Number: 42, Position: 6\n"
     ]
    }
   ],
   "source": [
    "#21\n",
    "def extract_numbers_with_positions(input_string):\n",
    "    numbers_with_positions = []\n",
    "    words = input_string.split()\n",
    "\n",
    "    for position, word in enumerate(words):\n",
    "        if word.isdigit():\n",
    "            numbers_with_positions.append((int(word), position))\n",
    "\n",
    "    return numbers_with_positions\n",
    "\n",
    "# Input string\n",
    "input_string = \"The cat is chasing the mouse 42 and 17.\"\n",
    "\n",
    "# Extract numbers with their positions\n",
    "numbers_with_positions = extract_numbers_with_positions(input_string)\n",
    "\n",
    "# Display the results\n",
    "if numbers_with_positions:\n",
    "    for number, position in numbers_with_positions:\n",
    "        print(f\"Number: {number}, Position: {position}\")\n",
    "else:\n",
    "    print(\"No numbers found in the string.\")\n"
   ]
  },
  {
   "cell_type": "code",
   "execution_count": null,
   "id": "b039f751",
   "metadata": {},
   "outputs": [],
   "source": [
    "\n"
   ]
  },
  {
   "cell_type": "code",
   "execution_count": 23,
   "id": "c5be0996",
   "metadata": {},
   "outputs": [
    {
     "name": "stdout",
     "output_type": "stream",
     "text": [
      "The maximum numeric value is: 950\n"
     ]
    }
   ],
   "source": [
    "#22\n",
    "\n",
    "import re\n",
    "\n",
    "def extract_max_numeric_value(input_string):\n",
    "    numbers = re.findall(r'\\d+', input_string)  #Find all numeric substrings\n",
    "    if numbers:\n",
    "        max_number =max(map(int , numbers))   #Convert to integers and find the maximum\n",
    "        return max_number\n",
    "    else:\n",
    "        return None\n",
    "    \n",
    "#Input string \n",
    "input_string = \"My marks in each semester are: 947, 896, 926, 524, 734, 950, 642\"\n",
    "\n",
    "#Extract and print the maximum numeric value\n",
    "max_numeric_value = extract_max_numeric_value(input_string)\n",
    "if max_numeric_value is not None:\n",
    "    print (f\"The maximum numeric value is: {max_numeric_value}\")\n",
    "else:\n",
    "    print (\"No numeric values found in the string.\")\n",
    "    "
   ]
  },
  {
   "cell_type": "code",
   "execution_count": null,
   "id": "f1df770a",
   "metadata": {},
   "outputs": [],
   "source": []
  },
  {
   "cell_type": "code",
   "execution_count": 25,
   "id": "b4f68539",
   "metadata": {},
   "outputs": [
    {
     "name": "stdout",
     "output_type": "stream",
     "text": [
      "Modified string: Regular Expression Is An Important Topic In Python\n"
     ]
    }
   ],
   "source": [
    "#23\n",
    "\n",
    "import re\n",
    "\n",
    "def insert_spaces_between_capital_words(input_string):\n",
    "    #Use regular expression to find words starting with capital letters\n",
    "    words = re.findall(r'[A-Z][a-z]*' , input_string)\n",
    "    \n",
    "    #Join the words with spaces to create the modified string\n",
    "    modified_string = ' '.join(words)\n",
    "    \n",
    "    return modified_string\n",
    "\n",
    "#Input string\n",
    "input_string = \"RegularExpressionIsAnImportantTopicInPython\"\n",
    "\n",
    "#Insert spaces between words starting with capital letters\n",
    "modified_string = insert_spaces_between_capital_words(input_string)\n",
    "print(\"Modified string:\" , modified_string)"
   ]
  },
  {
   "cell_type": "code",
   "execution_count": null,
   "id": "7a71dda1",
   "metadata": {},
   "outputs": [],
   "source": []
  },
  {
   "cell_type": "code",
   "execution_count": 27,
   "id": "66485399",
   "metadata": {},
   "outputs": [
    {
     "name": "stdout",
     "output_type": "stream",
     "text": [
      "Squences: ['Find', 'The', 'Sequences', 'Of', 'Upper', 'And', 'Lowercase', 'Letters', 'In', 'This', 'String']\n"
     ]
    }
   ],
   "source": [
    "#24\n",
    "\n",
    "import re\n",
    "\n",
    "def find_upper_lower_sequences(input_string):\n",
    "    pattern = r'[A-Z][a-z]+'\n",
    "    sequences = re.findall(pattern, input_string)\n",
    "    return sequences\n",
    "\n",
    "#Input string\n",
    "input_string = \"FindTheSequencesOfUpperAndLowercaseLettersInThisString\"\n",
    "\n",
    "#Find sequences of one uppercase letter followed by lower case lettrs\n",
    "sequences = find_upper_lower_sequences(input_string)\n",
    "print(\"Squences:\" , sequences)"
   ]
  },
  {
   "cell_type": "code",
   "execution_count": null,
   "id": "4455d123",
   "metadata": {},
   "outputs": [],
   "source": []
  },
  {
   "cell_type": "code",
   "execution_count": 30,
   "id": "52917e4b",
   "metadata": {},
   "outputs": [
    {
     "name": "stdout",
     "output_type": "stream",
     "text": [
      "Modified string: Hello world\n"
     ]
    }
   ],
   "source": [
    "#25\n",
    "\n",
    "import re\n",
    "\n",
    "def remove_continuous_duplicates(input_string):\n",
    "    pattern = r'\\b(\\w+)\\s+\\1\\b'\n",
    "    modified_string = re.sub(pattern, r'\\1', input_string, flags = re.IGNORECASE)\n",
    "    return modified_string\n",
    "\n",
    "#Input string\n",
    "input_string = \"Hello hello world world\"\n",
    "\n",
    "#Remove continuous duplicate words\n",
    "modified_string = remove_continuous_duplicates(input_string)\n",
    "print(\"Modified string:\" , modified_string)"
   ]
  },
  {
   "cell_type": "code",
   "execution_count": null,
   "id": "93839b7d",
   "metadata": {},
   "outputs": [],
   "source": []
  },
  {
   "cell_type": "code",
   "execution_count": 32,
   "id": "6ca41c2f",
   "metadata": {},
   "outputs": [
    {
     "name": "stdout",
     "output_type": "stream",
     "text": [
      "Enter a string: abs123\n",
      "String ends with an alphanumeric character.\n"
     ]
    }
   ],
   "source": [
    "#26\n",
    "\n",
    "import re\n",
    "\n",
    "def validate_ending_alphanumeric(input_string):\n",
    "    pattern = r'^.*[a-zA-Z0-9]$'\n",
    "    match = re.match(pattern, input_string)\n",
    "    return bool(match)\n",
    "\n",
    "#Input string\n",
    "input_string = input(\"Enter a string: \")\n",
    "\n",
    "#Validate if the string ends with an alphanumeric character\n",
    "if validate_ending_alphanumeric(input_string):\n",
    "    print (\"String ends with an alphanumeric character.\")\n",
    "else:\n",
    "    print(\"String does not end with an alphanumeric character.\")\n",
    "    "
   ]
  },
  {
   "cell_type": "code",
   "execution_count": null,
   "id": "f85cddef",
   "metadata": {},
   "outputs": [],
   "source": []
  },
  {
   "cell_type": "code",
   "execution_count": 34,
   "id": "775d19be",
   "metadata": {},
   "outputs": [
    {
     "name": "stdout",
     "output_type": "stream",
     "text": [
      "Hashtags: ['#Doltiwal', '#xyzabc', '#Demonetization']\n"
     ]
    }
   ],
   "source": [
    "#27\n",
    "\n",
    "import re\n",
    "\n",
    "def extract_hashtags(input_string):\n",
    "    hashtags = re.findall(r'#\\w+' , input_string)\n",
    "    return hashtags\n",
    "\n",
    "#Input string\n",
    "input_string = \"\"\"RT @kapil_kausik: #Doltiwal I mean #xyzabc is \"hurt\" by #Demonetization as the same has rendered USELESS <ed><U+00A0><U+00BD><ed><U+00B1><U+0089> \"acquired funds\" No wo\"\"\"\n",
    "\n",
    "#Extract hashtags from the string\n",
    "hashtags = extract_hashtags(input_string)\n",
    "print (\"Hashtags:\" , hashtags)\n"
   ]
  },
  {
   "cell_type": "code",
   "execution_count": null,
   "id": "dc823b76",
   "metadata": {},
   "outputs": [],
   "source": []
  },
  {
   "cell_type": "code",
   "execution_count": 38,
   "id": "41e4ad43",
   "metadata": {},
   "outputs": [
    {
     "name": "stdout",
     "output_type": "stream",
     "text": [
      "Modified string: @Jags123456 Bharat band on 28??<ed><ed>Those who are protesting #demonetization are all different party leaders\n"
     ]
    }
   ],
   "source": [
    "#28\n",
    "\n",
    "import re\n",
    "\n",
    "def remove_unicode_symbols(input_string):\n",
    "    pattern = r'<U\\+[A-F0-9]{4}>'\n",
    "    modified_string = re.sub(pattern , '' , input_string)\n",
    "    return modified_string\n",
    "\n",
    "#Input string\n",
    "input_string = \"@Jags123456 Bharat band on 28??<ed><U+00A0><U+00BD><ed><U+00B8><U+0082>Those who are protesting #demonetization are all different party leaders\"\n",
    "\n",
    "#Remove <U+..> like symbols from the string\n",
    "modified_string = remove_unicode_symbols(input_string)\n",
    "print(\"Modified string:\" , modified_string)\n"
   ]
  },
  {
   "cell_type": "code",
   "execution_count": null,
   "id": "2be83034",
   "metadata": {},
   "outputs": [],
   "source": []
  },
  {
   "cell_type": "code",
   "execution_count": 41,
   "id": "c74a3c59",
   "metadata": {},
   "outputs": [
    {
     "name": "stdout",
     "output_type": "stream",
     "text": [
      "Modified string:  following example creates  ArrayList  a capacity   elements. 4 elements   added   ArrayList   ArrayList  trimmed accordingly.\n"
     ]
    }
   ],
   "source": [
    "#30\n",
    "\n",
    "import re\n",
    "\n",
    "def remove_words_between_lengths(text):\n",
    "    pattern = re.compile(r'\\b\\w{2,4}\\b')\n",
    "    modified_text = pattern.sub('', text)\n",
    "    return modified_text\n",
    "\n",
    "#Input string\n",
    "input_string = \"The following example creates an ArrayList with a capacity of 50 elements. 4 elements are then added to the ArrayList and the ArrayList is trimmed accordingly.\"\n",
    "\n",
    "#Remove words of lengths between 2 and 4 from the string\n",
    "modified_string = remove_words_between_lengths(input_string)\n",
    "print(\"Modified string:\" , modified_string)\n"
   ]
  },
  {
   "cell_type": "code",
   "execution_count": null,
   "id": "62c91d38",
   "metadata": {},
   "outputs": [],
   "source": []
  },
  {
   "cell_type": "code",
   "execution_count": 46,
   "id": "d4ecff25",
   "metadata": {},
   "outputs": [
    {
     "name": "stdout",
     "output_type": "stream",
     "text": [
      "Modified string: Python:Exercises::PHP:exercises:\n"
     ]
    }
   ],
   "source": [
    "#1\n",
    "\n",
    "def replace_characters(input_string):\n",
    "    modified_string = input_string.replace(' ', ':').replace(',', ':').replace('.', ':')\n",
    "    return modified_string\n",
    "\n",
    "#Input string\n",
    "input_string = 'Python Exercises, PHP exercises.'\n",
    "\n",
    "#Replace spaces, comas, and dots with colons\n",
    "modified_string = replace_characters(input_string)\n",
    "print(\"Modified string:\" , modified_string)"
   ]
  },
  {
   "cell_type": "code",
   "execution_count": null,
   "id": "d62c2f7e",
   "metadata": {},
   "outputs": [],
   "source": []
  },
  {
   "cell_type": "code",
   "execution_count": 48,
   "id": "47d71923",
   "metadata": {},
   "outputs": [
    {
     "name": "stdout",
     "output_type": "stream",
     "text": [
      "Long words: ['rises', 'east']\n"
     ]
    }
   ],
   "source": [
    "#3\n",
    "\n",
    "import re\n",
    "\n",
    "def find_long_words(input_string):\n",
    "    pattern = re.compile(r'\\b\\w{4,}\\b')\n",
    "    long_words = pattern.findall(input_string)\n",
    "    return long_words\n",
    "\n",
    "#Input string\n",
    "input_string = \"Sun rises in the east\"\n",
    "\n",
    "#Find words at least 4 characters long\n",
    "long_words = find_long_words(input_string)\n",
    "print(\"Long words:\", long_words)"
   ]
  },
  {
   "cell_type": "code",
   "execution_count": null,
   "id": "3e891200",
   "metadata": {},
   "outputs": [],
   "source": []
  },
  {
   "cell_type": "code",
   "execution_count": 50,
   "id": "fc31deee",
   "metadata": {},
   "outputs": [
    {
     "name": "stdout",
     "output_type": "stream",
     "text": [
      "Specific length words: ['very']\n"
     ]
    }
   ],
   "source": [
    "#4\n",
    "\n",
    "import re\n",
    "\n",
    "def find_specific_length_words(input_string):\n",
    "    pattern = re.compile(r'\\b\\w{3,5}\\b')\n",
    "    specific_length_words = pattern.findall(input_string)\n",
    "    return specific_length_words\n",
    "\n",
    "#Input string\n",
    "input_string = \"Suresh is very hungry\"\n",
    "\n",
    "#Find three, four and five character words\n",
    "specific_length_words = find_specific_length_words(input_string)\n",
    "print(\"Specific length words:\" , specific_length_words)"
   ]
  },
  {
   "cell_type": "markdown",
   "id": "18b52e5a",
   "metadata": {},
   "source": []
  },
  {
   "cell_type": "code",
   "execution_count": null,
   "id": "dabfb020",
   "metadata": {},
   "outputs": [],
   "source": []
  },
  {
   "cell_type": "code",
   "execution_count": 55,
   "id": "048a07ed",
   "metadata": {},
   "outputs": [
    {
     "name": "stdout",
     "output_type": "stream",
     "text": [
      "Modified strings: ['example.com', 'hr@fliprobo.com', 'github.com', 'HelloData Science World', 'DataScientist']\n"
     ]
    }
   ],
   "source": [
    "#5\n",
    "\n",
    "def remove_only_parenthesis(strings_list):\n",
    "    pattern = re.compile(r'\\((.*?)\\)')\n",
    "    modified_list = [pattern.sub(r'\\1' , string) for string in strings_list]\n",
    "    return modified_list\n",
    "\n",
    "#Input list of strings\n",
    "input_strings =  [\"example(.com)\", \"hr@fliprobo(.com)\", \"github(.com)\", \"Hello(Data Science World)\", \"Data(Scientist)\"]\n",
    "    \n",
    "#Remove only the parenthesis from the strings\n",
    "modified_strings = remove_only_parentheses(input_strings)\n",
    "print(\"Modified strings:\" , modified_strings)"
   ]
  },
  {
   "cell_type": "code",
   "execution_count": null,
   "id": "4babda12",
   "metadata": {},
   "outputs": [],
   "source": []
  },
  {
   "cell_type": "code",
   "execution_count": 58,
   "id": "de3635b0",
   "metadata": {},
   "outputs": [
    {
     "name": "stdout",
     "output_type": "stream",
     "text": [
      "Modified string: Regularexpression 1 Isan 2 Importanttopic 3 Inpython\n"
     ]
    }
   ],
   "source": [
    "#9\n",
    "\n",
    "import re\n",
    "\n",
    "def insert_spaces(input_string):\n",
    "    pattern = re.compile(r'(?<=[a-z0-9])(?=[A-Z0-9])')\n",
    "    modified_string = pattern.sub(' ', input_string)\n",
    "    return modified_string\n",
    "\n",
    "#Input string\n",
    "input_string = \"Regularexpression1Isan2Importanttopic3Inpython\"\n",
    "\n",
    "#Insert spaces between words starting with capital letters or numbers\n",
    "modified_string = insert_spaces(input_string)\n",
    "print(\"Modified string:\", modified_string)"
   ]
  },
  {
   "cell_type": "code",
   "execution_count": null,
   "id": "e61ecd6d",
   "metadata": {},
   "outputs": [],
   "source": []
  },
  {
   "cell_type": "code",
   "execution_count": 61,
   "id": "37951058",
   "metadata": {},
   "outputs": [
    {
     "name": "stdout",
     "output_type": "stream",
     "text": [
      "'fox' found at positions: [16]\n"
     ]
    }
   ],
   "source": [
    "#16\n",
    "\n",
    "def search_literal_with_positions(main_string, search_literals):\n",
    "    found_positions = []\n",
    "    start = 0\n",
    "    while start < len(main_string):\n",
    "        position = main_string.find(search_literal, start)\n",
    "        if position == -1:\n",
    "            break\n",
    "        found_positions.append(position)\n",
    "        start = position +1\n",
    "        return found_positions\n",
    "    \n",
    "#Input_string\n",
    "main_string = 'The quick brown fox jumps over the lazy dog.'\n",
    "\n",
    "#Literal string to search for\n",
    "search_literal = 'fox'\n",
    "\n",
    "#Search for thr literal string in thr main string\n",
    "found_positions = search_literal_with_positions(main_string, search_literal)\n",
    "\n",
    "#Display the results\n",
    "if found_positions:\n",
    "    print(f\"'{search_literal}' found at positions:\", found_positions)\n",
    "else:\n",
    "    print(f\"'{search_literal}' not found in the string.\")\n",
    "    "
   ]
  },
  {
   "cell_type": "code",
   "execution_count": null,
   "id": "3e952809",
   "metadata": {},
   "outputs": [],
   "source": []
  },
  {
   "cell_type": "code",
   "execution_count": null,
   "id": "a15e9b8d",
   "metadata": {},
   "outputs": [],
   "source": []
  },
  {
   "cell_type": "code",
   "execution_count": null,
   "id": "844266b7",
   "metadata": {},
   "outputs": [],
   "source": []
  },
  {
   "cell_type": "code",
   "execution_count": null,
   "id": "a10bdfe7",
   "metadata": {},
   "outputs": [],
   "source": []
  },
  {
   "cell_type": "code",
   "execution_count": null,
   "id": "bdc9588b",
   "metadata": {},
   "outputs": [],
   "source": []
  },
  {
   "cell_type": "code",
   "execution_count": null,
   "id": "b4103ebb",
   "metadata": {},
   "outputs": [],
   "source": []
  },
  {
   "cell_type": "code",
   "execution_count": null,
   "id": "35b342d4",
   "metadata": {},
   "outputs": [],
   "source": []
  },
  {
   "cell_type": "code",
   "execution_count": null,
   "id": "aceec6e7",
   "metadata": {},
   "outputs": [],
   "source": []
  },
  {
   "cell_type": "code",
   "execution_count": null,
   "id": "62525454",
   "metadata": {},
   "outputs": [],
   "source": []
  }
 ],
 "metadata": {
  "kernelspec": {
   "display_name": "Python 3 (ipykernel)",
   "language": "python",
   "name": "python3"
  },
  "language_info": {
   "codemirror_mode": {
    "name": "ipython",
    "version": 3
   },
   "file_extension": ".py",
   "mimetype": "text/x-python",
   "name": "python",
   "nbconvert_exporter": "python",
   "pygments_lexer": "ipython3",
   "version": "3.9.13"
  }
 },
 "nbformat": 4,
 "nbformat_minor": 5
}
